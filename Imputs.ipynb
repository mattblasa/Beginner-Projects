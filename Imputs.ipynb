{
 "cells": [
  {
   "cell_type": "code",
   "execution_count": 1,
   "metadata": {},
   "outputs": [
    {
     "name": "stdout",
     "output_type": "stream",
     "text": [
      "What would you like for dinner tonight?\n",
      "test\n",
      "test, we had that last week, anything else you would like?\n",
      "st\n",
      "nah, don't fancy that - what else can we have?\n",
      "sa\n",
      "that's boring. What do we have in the fridge or cupboards?\n",
      "as\n",
      "we could have that tomorrow. What shall we have tonight?\n",
      "s\n",
      "veto. Ask me what I want\n",
      "s\n",
      "not bothered\n"
     ]
    }
   ],
   "source": [
    "print('What would you like for dinner tonight?')\n",
    "\n",
    "food = input()\n",
    "\n",
    "print(food + ', we had that last week, anything else you would like?')\n",
    "\n",
    "input()\n",
    "\n",
    "print('nah, don\\'t fancy that - what else can we have?')\n",
    "\n",
    "input()\n",
    "\n",
    "print('that\\'s boring. What do we have in the fridge or cupboards?')\n",
    "\n",
    "input()\n",
    "\n",
    "print('we could have that tomorrow. What shall we have tonight?')\n",
    "\n",
    "input()\n",
    "\n",
    "print('veto. Ask me what I want')\n",
    "\n",
    "input()\n",
    "\n",
    "print('not bothered')"
   ]
  }
 ],
 "metadata": {
  "kernelspec": {
   "display_name": "Python 3",
   "language": "python",
   "name": "python3"
  },
  "language_info": {
   "codemirror_mode": {
    "name": "ipython",
    "version": 3
   },
   "file_extension": ".py",
   "mimetype": "text/x-python",
   "name": "python",
   "nbconvert_exporter": "python",
   "pygments_lexer": "ipython3",
   "version": "3.7.2"
  }
 },
 "nbformat": 4,
 "nbformat_minor": 2
}
